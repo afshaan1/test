{
 "cells": [
  {
   "cell_type": "markdown",
   "id": "9687563a",
   "metadata": {},
   "source": [
    "# Code to Markdown"
   ]
  },
  {
   "cell_type": "markdown",
   "id": "56d1ef65",
   "metadata": {},
   "source": [
    "# Heading\n",
    "## Heading 2\n",
    "# heading 3\n"
   ]
  },
  {
   "cell_type": "markdown",
   "id": "0bbb7e9b",
   "metadata": {},
   "source": [
    "> Principle Component Analysis"
   ]
  },
  {
   "cell_type": "markdown",
   "id": "afb55a8a",
   "metadata": {},
   "source": [
    "**Bold**\n",
    "*Italics*"
   ]
  },
  {
   "cell_type": "markdown",
   "id": "d0541d09",
   "metadata": {},
   "source": [
    "- Hello\n",
    "1. Hello"
   ]
  },
  {
   "cell_type": "markdown",
   "id": "28ccb14e",
   "metadata": {},
   "source": [
    "![bing](www.bing.com)(https://www.bing.com/ck/a?!&&p=af48e0d90cf5a1aeJmltdHM9MTY3MjAxMjgwMCZpZ3VpZD0zMWRiODdhOC00ZGQ3LTY1ZTctMmRhNS05NTJiNGMzZjY0MjMmaW5zaWQ9NTUwOA&ptn=3&hsh=3&fclid=31db87a8-4dd7-65e7-2da5-952b4c3f6423&u=a1L2ltYWdlcy9zZWFyY2g_cT1jYXQrYW5pbWFsJmlkPTMyMkZGQjA0MDM0RUMyRjFEOThBRThFRTkwQUVFOThERjJEMjFGNjQmRk9STT1JQVJSVEg&ntb=1)"
   ]
  },
  {
   "cell_type": "code",
   "execution_count": 3,
   "id": "05496319",
   "metadata": {},
   "outputs": [
    {
     "data": {
      "text/plain": [
       "int"
      ]
     },
     "execution_count": 3,
     "metadata": {},
     "output_type": "execute_result"
    }
   ],
   "source": [
    "type(1)"
   ]
  },
  {
   "cell_type": "code",
   "execution_count": 4,
   "id": "4db42b0f",
   "metadata": {},
   "outputs": [
    {
     "data": {
      "text/plain": [
       "float"
      ]
     },
     "execution_count": 4,
     "metadata": {},
     "output_type": "execute_result"
    }
   ],
   "source": [
    "type(2.1)"
   ]
  },
  {
   "cell_type": "code",
   "execution_count": 5,
   "id": "111b9676",
   "metadata": {},
   "outputs": [
    {
     "data": {
      "text/plain": [
       "str"
      ]
     },
     "execution_count": 5,
     "metadata": {},
     "output_type": "execute_result"
    }
   ],
   "source": [
    "type(\"hi\")"
   ]
  },
  {
   "cell_type": "code",
   "execution_count": 1,
   "id": "01574391",
   "metadata": {},
   "outputs": [
    {
     "data": {
      "text/plain": [
       "str"
      ]
     },
     "execution_count": 1,
     "metadata": {},
     "output_type": "execute_result"
    }
   ],
   "source": [
    "type('true')"
   ]
  },
  {
   "cell_type": "code",
   "execution_count": 9,
   "id": "616c7e94",
   "metadata": {},
   "outputs": [],
   "source": [
    "var=15"
   ]
  },
  {
   "cell_type": "code",
   "execution_count": 10,
   "id": "cb430a17",
   "metadata": {},
   "outputs": [
    {
     "name": "stdout",
     "output_type": "stream",
     "text": [
      "15\n"
     ]
    }
   ],
   "source": [
    "print(var)"
   ]
  },
  {
   "cell_type": "code",
   "execution_count": 11,
   "id": "e8701951",
   "metadata": {},
   "outputs": [],
   "source": [
    "integer=55\n",
    "float=6.5\n",
    "string=\"hi\""
   ]
  },
  {
   "cell_type": "code",
   "execution_count": 14,
   "id": "ac69975d",
   "metadata": {},
   "outputs": [
    {
     "name": "stdout",
     "output_type": "stream",
     "text": [
      "55 6.5 hi\n"
     ]
    }
   ],
   "source": [
    "print(integer,float,string)"
   ]
  },
  {
   "cell_type": "code",
   "execution_count": 17,
   "id": "8c99c5f1",
   "metadata": {},
   "outputs": [],
   "source": [
    "# Take input from user and print the age and typecast it str"
   ]
  },
  {
   "cell_type": "code",
   "execution_count": 33,
   "id": "f4c0874c",
   "metadata": {},
   "outputs": [
    {
     "name": "stdout",
     "output_type": "stream",
     "text": [
      "Enter your age3.9\n"
     ]
    }
   ],
   "source": [
    "age0=input('Enter your age')"
   ]
  },
  {
   "cell_type": "code",
   "execution_count": 34,
   "id": "b8284412",
   "metadata": {},
   "outputs": [
    {
     "name": "stdout",
     "output_type": "stream",
     "text": [
      "Age of customer is 3.9 years old\n"
     ]
    }
   ],
   "source": [
    "print('Age of customer is',age0,'years old')"
   ]
  },
  {
   "cell_type": "code",
   "execution_count": 35,
   "id": "7045d685",
   "metadata": {},
   "outputs": [
    {
     "data": {
      "text/plain": [
       "str"
      ]
     },
     "execution_count": 35,
     "metadata": {},
     "output_type": "execute_result"
    }
   ],
   "source": [
    "type(age0)"
   ]
  },
  {
   "cell_type": "code",
   "execution_count": 42,
   "id": "a97ed718",
   "metadata": {},
   "outputs": [
    {
     "data": {
      "text/plain": [
       "type"
      ]
     },
     "execution_count": 42,
     "metadata": {},
     "output_type": "execute_result"
    }
   ],
   "source": [
    "# type casting\n",
    "age0_type_casted=int\n",
    "type(age0_type_casted)"
   ]
  },
  {
   "cell_type": "code",
   "execution_count": 43,
   "id": "88489245",
   "metadata": {},
   "outputs": [],
   "source": [
    "a=14"
   ]
  },
  {
   "cell_type": "code",
   "execution_count": 47,
   "id": "9d9625fa",
   "metadata": {},
   "outputs": [
    {
     "name": "stdout",
     "output_type": "stream",
     "text": [
      "The value of a is 14\n"
     ]
    }
   ],
   "source": [
    "#formatted string\n",
    "print(f\"The value of a is {a}\")"
   ]
  },
  {
   "cell_type": "code",
   "execution_count": 48,
   "id": "4fe5f550",
   "metadata": {},
   "outputs": [
    {
     "name": "stdout",
     "output_type": "stream",
     "text": [
      "['False', 'None', 'True', '__peg_parser__', 'and', 'as', 'assert', 'async', 'await', 'break', 'class', 'continue', 'def', 'del', 'elif', 'else', 'except', 'finally', 'for', 'from', 'global', 'if', 'import', 'in', 'is', 'lambda', 'nonlocal', 'not', 'or', 'pass', 'raise', 'return', 'try', 'while', 'with', 'yield']\n"
     ]
    }
   ],
   "source": [
    "import keyword\n",
    "print(keyword.kwlist)"
   ]
  },
  {
   "cell_type": "code",
   "execution_count": 50,
   "id": "de628800",
   "metadata": {},
   "outputs": [
    {
     "name": "stdout",
     "output_type": "stream",
     "text": [
      "5 4\n"
     ]
    }
   ],
   "source": [
    "#swap two numbers\n",
    "x=4\n",
    "y=5\n",
    "\n",
    "z=x\n",
    "x=y\n",
    "y=z\n",
    "print(x,y)"
   ]
  },
  {
   "cell_type": "code",
   "execution_count": 66,
   "id": "f5651604",
   "metadata": {},
   "outputs": [
    {
     "name": "stdout",
     "output_type": "stream",
     "text": [
      "Enter the number11\n",
      "Enter the number55\n",
      "11 11\n"
     ]
    }
   ],
   "source": [
    "var1=input('Enter the number')\n",
    "var2=input('Enter the number')\n",
    "\n",
    "c=var1\n",
    "var2=var1\n",
    "var1=c\n",
    "print(var2,var1)"
   ]
  },
  {
   "cell_type": "markdown",
   "id": "8514c9cc",
   "metadata": {},
   "source": [
    "# Logical Operators"
   ]
  },
  {
   "cell_type": "code",
   "execution_count": 3,
   "id": "6572ad2c",
   "metadata": {},
   "outputs": [
    {
     "name": "stdout",
     "output_type": "stream",
     "text": [
      "not present\n"
     ]
    }
   ],
   "source": [
    "x=5\n",
    "y=12\n",
    "l=[1,2,3,4,5,12]\n",
    "if x & y in l:\n",
    "    print('not present')"
   ]
  },
  {
   "cell_type": "code",
   "execution_count": null,
   "id": "c26ce3b9",
   "metadata": {},
   "outputs": [],
   "source": []
  }
 ],
 "metadata": {
  "kernelspec": {
   "display_name": "Python 3 (ipykernel)",
   "language": "python",
   "name": "python3"
  },
  "language_info": {
   "codemirror_mode": {
    "name": "ipython",
    "version": 3
   },
   "file_extension": ".py",
   "mimetype": "text/x-python",
   "name": "python",
   "nbconvert_exporter": "python",
   "pygments_lexer": "ipython3",
   "version": "3.9.13"
  }
 },
 "nbformat": 4,
 "nbformat_minor": 5
}
